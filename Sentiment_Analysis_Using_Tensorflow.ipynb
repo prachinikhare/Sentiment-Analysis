{
  "cells": [
    {
      "cell_type": "markdown",
      "id": "d283ad86",
      "metadata": {
        "id": "d283ad86"
      },
      "source": [
        "## Sentiment analysis of IMDB reviews\n",
        "## We will start by importing the necessary libraries"
      ]
    },
    {
      "cell_type": "code",
      "execution_count": null,
      "id": "ee131caa",
      "metadata": {
        "colab": {
          "base_uri": "https://localhost:8080/",
          "height": 35
        },
        "id": "ee131caa",
        "outputId": "3116c214-cb58-468e-ad1b-bc37f37343f6"
      },
      "outputs": [
        {
          "output_type": "execute_result",
          "data": {
            "application/vnd.google.colaboratory.intrinsic+json": {
              "type": "string"
            },
            "text/plain": [
              "'/content'"
            ]
          },
          "metadata": {},
          "execution_count": 1
        }
      ],
      "source": [
        "pwd"
      ]
    },
    {
      "cell_type": "code",
      "execution_count": null,
      "id": "4d88664a",
      "metadata": {
        "id": "4d88664a"
      },
      "outputs": [],
      "source": [
        "import tensorflow as tf\n",
        "import tensorflow.keras as keras\n",
        "import numpy as np\n",
        "import pandas as pd\n",
        "import matplotlib.pyplot as plt"
      ]
    },
    {
      "cell_type": "markdown",
      "id": "f19b406b",
      "metadata": {
        "id": "f19b406b"
      },
      "source": [
        "## Importing the data files\n",
        "## After importing the necessary libraries now we will read the data files we have two data files here"
      ]
    },
    {
      "cell_type": "code",
      "source": [
        "from google.colab import drive\n",
        "drive.mount('/content/drive',force_remount=True)"
      ],
      "metadata": {
        "colab": {
          "base_uri": "https://localhost:8080/"
        },
        "id": "Xi-G2uJtNxsV",
        "outputId": "31225407-5c2f-445b-f96e-3972b3425498"
      },
      "id": "Xi-G2uJtNxsV",
      "execution_count": null,
      "outputs": [
        {
          "output_type": "stream",
          "name": "stdout",
          "text": [
            "Mounted at /content/drive\n"
          ]
        }
      ]
    },
    {
      "cell_type": "code",
      "execution_count": null,
      "id": "7fdc2179",
      "metadata": {
        "id": "7fdc2179"
      },
      "outputs": [],
      "source": [
        "imdb_reviews=pd.read_csv(\"/content/drive/MyDrive/Sentiment analysis/imdb_reviews.csv\")\n",
        "test_reviews=pd.read_csv(\"/content/drive/MyDrive/Sentiment analysis/test_reviews.csv\")"
      ]
    },
    {
      "cell_type": "markdown",
      "id": "a2e31e66",
      "metadata": {
        "id": "a2e31e66"
      },
      "source": [
        "## first data file contains the imdb reviews and their corresponding sentiments which can be either positive or negative, we are going to use this file as our training data."
      ]
    },
    {
      "cell_type": "code",
      "execution_count": null,
      "id": "1bb13766",
      "metadata": {
        "colab": {
          "base_uri": "https://localhost:8080/",
          "height": 206
        },
        "id": "1bb13766",
        "outputId": "60c56aac-8ab8-4195-b573-0daea412255a"
      },
      "outputs": [
        {
          "output_type": "execute_result",
          "data": {
            "text/html": [
              "\n",
              "  <div id=\"df-7bcc5f78-05c0-4a4f-874b-39af97b874af\">\n",
              "    <div class=\"colab-df-container\">\n",
              "      <div>\n",
              "<style scoped>\n",
              "    .dataframe tbody tr th:only-of-type {\n",
              "        vertical-align: middle;\n",
              "    }\n",
              "\n",
              "    .dataframe tbody tr th {\n",
              "        vertical-align: top;\n",
              "    }\n",
              "\n",
              "    .dataframe thead th {\n",
              "        text-align: right;\n",
              "    }\n",
              "</style>\n",
              "<table border=\"1\" class=\"dataframe\">\n",
              "  <thead>\n",
              "    <tr style=\"text-align: right;\">\n",
              "      <th></th>\n",
              "      <th>Reviews</th>\n",
              "      <th>Sentiment</th>\n",
              "    </tr>\n",
              "  </thead>\n",
              "  <tbody>\n",
              "    <tr>\n",
              "      <th>0</th>\n",
              "      <td>&lt;START this film was just brilliant casting lo...</td>\n",
              "      <td>positive</td>\n",
              "    </tr>\n",
              "    <tr>\n",
              "      <th>1</th>\n",
              "      <td>&lt;START big hair big boobs bad music and a gian...</td>\n",
              "      <td>negative</td>\n",
              "    </tr>\n",
              "    <tr>\n",
              "      <th>2</th>\n",
              "      <td>&lt;START this has to be one of the worst films o...</td>\n",
              "      <td>negative</td>\n",
              "    </tr>\n",
              "    <tr>\n",
              "      <th>3</th>\n",
              "      <td>&lt;START the &lt;UNK&gt; &lt;UNK&gt; at storytelling the tra...</td>\n",
              "      <td>positive</td>\n",
              "    </tr>\n",
              "    <tr>\n",
              "      <th>4</th>\n",
              "      <td>&lt;START worst mistake of my life br br i picked...</td>\n",
              "      <td>negative</td>\n",
              "    </tr>\n",
              "  </tbody>\n",
              "</table>\n",
              "</div>\n",
              "      <button class=\"colab-df-convert\" onclick=\"convertToInteractive('df-7bcc5f78-05c0-4a4f-874b-39af97b874af')\"\n",
              "              title=\"Convert this dataframe to an interactive table.\"\n",
              "              style=\"display:none;\">\n",
              "        \n",
              "  <svg xmlns=\"http://www.w3.org/2000/svg\" height=\"24px\"viewBox=\"0 0 24 24\"\n",
              "       width=\"24px\">\n",
              "    <path d=\"M0 0h24v24H0V0z\" fill=\"none\"/>\n",
              "    <path d=\"M18.56 5.44l.94 2.06.94-2.06 2.06-.94-2.06-.94-.94-2.06-.94 2.06-2.06.94zm-11 1L8.5 8.5l.94-2.06 2.06-.94-2.06-.94L8.5 2.5l-.94 2.06-2.06.94zm10 10l.94 2.06.94-2.06 2.06-.94-2.06-.94-.94-2.06-.94 2.06-2.06.94z\"/><path d=\"M17.41 7.96l-1.37-1.37c-.4-.4-.92-.59-1.43-.59-.52 0-1.04.2-1.43.59L10.3 9.45l-7.72 7.72c-.78.78-.78 2.05 0 2.83L4 21.41c.39.39.9.59 1.41.59.51 0 1.02-.2 1.41-.59l7.78-7.78 2.81-2.81c.8-.78.8-2.07 0-2.86zM5.41 20L4 18.59l7.72-7.72 1.47 1.35L5.41 20z\"/>\n",
              "  </svg>\n",
              "      </button>\n",
              "      \n",
              "  <style>\n",
              "    .colab-df-container {\n",
              "      display:flex;\n",
              "      flex-wrap:wrap;\n",
              "      gap: 12px;\n",
              "    }\n",
              "\n",
              "    .colab-df-convert {\n",
              "      background-color: #E8F0FE;\n",
              "      border: none;\n",
              "      border-radius: 50%;\n",
              "      cursor: pointer;\n",
              "      display: none;\n",
              "      fill: #1967D2;\n",
              "      height: 32px;\n",
              "      padding: 0 0 0 0;\n",
              "      width: 32px;\n",
              "    }\n",
              "\n",
              "    .colab-df-convert:hover {\n",
              "      background-color: #E2EBFA;\n",
              "      box-shadow: 0px 1px 2px rgba(60, 64, 67, 0.3), 0px 1px 3px 1px rgba(60, 64, 67, 0.15);\n",
              "      fill: #174EA6;\n",
              "    }\n",
              "\n",
              "    [theme=dark] .colab-df-convert {\n",
              "      background-color: #3B4455;\n",
              "      fill: #D2E3FC;\n",
              "    }\n",
              "\n",
              "    [theme=dark] .colab-df-convert:hover {\n",
              "      background-color: #434B5C;\n",
              "      box-shadow: 0px 1px 3px 1px rgba(0, 0, 0, 0.15);\n",
              "      filter: drop-shadow(0px 1px 2px rgba(0, 0, 0, 0.3));\n",
              "      fill: #FFFFFF;\n",
              "    }\n",
              "  </style>\n",
              "\n",
              "      <script>\n",
              "        const buttonEl =\n",
              "          document.querySelector('#df-7bcc5f78-05c0-4a4f-874b-39af97b874af button.colab-df-convert');\n",
              "        buttonEl.style.display =\n",
              "          google.colab.kernel.accessAllowed ? 'block' : 'none';\n",
              "\n",
              "        async function convertToInteractive(key) {\n",
              "          const element = document.querySelector('#df-7bcc5f78-05c0-4a4f-874b-39af97b874af');\n",
              "          const dataTable =\n",
              "            await google.colab.kernel.invokeFunction('convertToInteractive',\n",
              "                                                     [key], {});\n",
              "          if (!dataTable) return;\n",
              "\n",
              "          const docLinkHtml = 'Like what you see? Visit the ' +\n",
              "            '<a target=\"_blank\" href=https://colab.research.google.com/notebooks/data_table.ipynb>data table notebook</a>'\n",
              "            + ' to learn more about interactive tables.';\n",
              "          element.innerHTML = '';\n",
              "          dataTable['output_type'] = 'display_data';\n",
              "          await google.colab.output.renderOutput(dataTable, element);\n",
              "          const docLink = document.createElement('div');\n",
              "          docLink.innerHTML = docLinkHtml;\n",
              "          element.appendChild(docLink);\n",
              "        }\n",
              "      </script>\n",
              "    </div>\n",
              "  </div>\n",
              "  "
            ],
            "text/plain": [
              "                                             Reviews Sentiment\n",
              "0  <START this film was just brilliant casting lo...  positive\n",
              "1  <START big hair big boobs bad music and a gian...  negative\n",
              "2  <START this has to be one of the worst films o...  negative\n",
              "3  <START the <UNK> <UNK> at storytelling the tra...  positive\n",
              "4  <START worst mistake of my life br br i picked...  negative"
            ]
          },
          "metadata": {},
          "execution_count": 7
        }
      ],
      "source": [
        "imdb_reviews.head()"
      ]
    },
    {
      "cell_type": "markdown",
      "source": [
        "**the second file is also similar to the first file but we are going to use it as the test data.**"
      ],
      "metadata": {
        "id": "cYZkssrAOSE9"
      },
      "id": "cYZkssrAOSE9"
    },
    {
      "cell_type": "code",
      "execution_count": null,
      "id": "b09f95df",
      "metadata": {
        "colab": {
          "base_uri": "https://localhost:8080/",
          "height": 206
        },
        "id": "b09f95df",
        "outputId": "d24a1f38-8356-4ca3-b941-cc24e7ae9b40"
      },
      "outputs": [
        {
          "output_type": "execute_result",
          "data": {
            "text/html": [
              "\n",
              "  <div id=\"df-d1d51473-5944-476e-a034-450a1462dc67\">\n",
              "    <div class=\"colab-df-container\">\n",
              "      <div>\n",
              "<style scoped>\n",
              "    .dataframe tbody tr th:only-of-type {\n",
              "        vertical-align: middle;\n",
              "    }\n",
              "\n",
              "    .dataframe tbody tr th {\n",
              "        vertical-align: top;\n",
              "    }\n",
              "\n",
              "    .dataframe thead th {\n",
              "        text-align: right;\n",
              "    }\n",
              "</style>\n",
              "<table border=\"1\" class=\"dataframe\">\n",
              "  <thead>\n",
              "    <tr style=\"text-align: right;\">\n",
              "      <th></th>\n",
              "      <th>Reviews</th>\n",
              "      <th>Sentiment</th>\n",
              "    </tr>\n",
              "  </thead>\n",
              "  <tbody>\n",
              "    <tr>\n",
              "      <th>0</th>\n",
              "      <td>&lt;START please give this one a miss br br &lt;UNK&gt;...</td>\n",
              "      <td>negative</td>\n",
              "    </tr>\n",
              "    <tr>\n",
              "      <th>1</th>\n",
              "      <td>&lt;START this film requires a lot of patience be...</td>\n",
              "      <td>positive</td>\n",
              "    </tr>\n",
              "    <tr>\n",
              "      <th>2</th>\n",
              "      <td>&lt;START many animation buffs consider &lt;UNK&gt; &lt;UN...</td>\n",
              "      <td>positive</td>\n",
              "    </tr>\n",
              "    <tr>\n",
              "      <th>3</th>\n",
              "      <td>&lt;START i generally love this type of movie how...</td>\n",
              "      <td>negative</td>\n",
              "    </tr>\n",
              "    <tr>\n",
              "      <th>4</th>\n",
              "      <td>&lt;START like some other people wrote i'm a die ...</td>\n",
              "      <td>positive</td>\n",
              "    </tr>\n",
              "  </tbody>\n",
              "</table>\n",
              "</div>\n",
              "      <button class=\"colab-df-convert\" onclick=\"convertToInteractive('df-d1d51473-5944-476e-a034-450a1462dc67')\"\n",
              "              title=\"Convert this dataframe to an interactive table.\"\n",
              "              style=\"display:none;\">\n",
              "        \n",
              "  <svg xmlns=\"http://www.w3.org/2000/svg\" height=\"24px\"viewBox=\"0 0 24 24\"\n",
              "       width=\"24px\">\n",
              "    <path d=\"M0 0h24v24H0V0z\" fill=\"none\"/>\n",
              "    <path d=\"M18.56 5.44l.94 2.06.94-2.06 2.06-.94-2.06-.94-.94-2.06-.94 2.06-2.06.94zm-11 1L8.5 8.5l.94-2.06 2.06-.94-2.06-.94L8.5 2.5l-.94 2.06-2.06.94zm10 10l.94 2.06.94-2.06 2.06-.94-2.06-.94-.94-2.06-.94 2.06-2.06.94z\"/><path d=\"M17.41 7.96l-1.37-1.37c-.4-.4-.92-.59-1.43-.59-.52 0-1.04.2-1.43.59L10.3 9.45l-7.72 7.72c-.78.78-.78 2.05 0 2.83L4 21.41c.39.39.9.59 1.41.59.51 0 1.02-.2 1.41-.59l7.78-7.78 2.81-2.81c.8-.78.8-2.07 0-2.86zM5.41 20L4 18.59l7.72-7.72 1.47 1.35L5.41 20z\"/>\n",
              "  </svg>\n",
              "      </button>\n",
              "      \n",
              "  <style>\n",
              "    .colab-df-container {\n",
              "      display:flex;\n",
              "      flex-wrap:wrap;\n",
              "      gap: 12px;\n",
              "    }\n",
              "\n",
              "    .colab-df-convert {\n",
              "      background-color: #E8F0FE;\n",
              "      border: none;\n",
              "      border-radius: 50%;\n",
              "      cursor: pointer;\n",
              "      display: none;\n",
              "      fill: #1967D2;\n",
              "      height: 32px;\n",
              "      padding: 0 0 0 0;\n",
              "      width: 32px;\n",
              "    }\n",
              "\n",
              "    .colab-df-convert:hover {\n",
              "      background-color: #E2EBFA;\n",
              "      box-shadow: 0px 1px 2px rgba(60, 64, 67, 0.3), 0px 1px 3px 1px rgba(60, 64, 67, 0.15);\n",
              "      fill: #174EA6;\n",
              "    }\n",
              "\n",
              "    [theme=dark] .colab-df-convert {\n",
              "      background-color: #3B4455;\n",
              "      fill: #D2E3FC;\n",
              "    }\n",
              "\n",
              "    [theme=dark] .colab-df-convert:hover {\n",
              "      background-color: #434B5C;\n",
              "      box-shadow: 0px 1px 3px 1px rgba(0, 0, 0, 0.15);\n",
              "      filter: drop-shadow(0px 1px 2px rgba(0, 0, 0, 0.3));\n",
              "      fill: #FFFFFF;\n",
              "    }\n",
              "  </style>\n",
              "\n",
              "      <script>\n",
              "        const buttonEl =\n",
              "          document.querySelector('#df-d1d51473-5944-476e-a034-450a1462dc67 button.colab-df-convert');\n",
              "        buttonEl.style.display =\n",
              "          google.colab.kernel.accessAllowed ? 'block' : 'none';\n",
              "\n",
              "        async function convertToInteractive(key) {\n",
              "          const element = document.querySelector('#df-d1d51473-5944-476e-a034-450a1462dc67');\n",
              "          const dataTable =\n",
              "            await google.colab.kernel.invokeFunction('convertToInteractive',\n",
              "                                                     [key], {});\n",
              "          if (!dataTable) return;\n",
              "\n",
              "          const docLinkHtml = 'Like what you see? Visit the ' +\n",
              "            '<a target=\"_blank\" href=https://colab.research.google.com/notebooks/data_table.ipynb>data table notebook</a>'\n",
              "            + ' to learn more about interactive tables.';\n",
              "          element.innerHTML = '';\n",
              "          dataTable['output_type'] = 'display_data';\n",
              "          await google.colab.output.renderOutput(dataTable, element);\n",
              "          const docLink = document.createElement('div');\n",
              "          docLink.innerHTML = docLinkHtml;\n",
              "          element.appendChild(docLink);\n",
              "        }\n",
              "      </script>\n",
              "    </div>\n",
              "  </div>\n",
              "  "
            ],
            "text/plain": [
              "                                             Reviews Sentiment\n",
              "0  <START please give this one a miss br br <UNK>...  negative\n",
              "1  <START this film requires a lot of patience be...  positive\n",
              "2  <START many animation buffs consider <UNK> <UN...  positive\n",
              "3  <START i generally love this type of movie how...  negative\n",
              "4  <START like some other people wrote i'm a die ...  positive"
            ]
          },
          "metadata": {},
          "execution_count": 8
        }
      ],
      "source": [
        "test_reviews.head()"
      ]
    },
    {
      "cell_type": "markdown",
      "source": [
        "##Preprocessing the data\n",
        "##We can not pass the string data to our model directly, so we need to transform the string data into integer format.For this we can map each distinct word as a distinct integer for eg.{'this':14 , 'the':1}.We already have a file that contains the mapping from words to integers so we are going to load that file."
      ],
      "metadata": {
        "id": "weZ0-uvUOgXn"
      },
      "id": "weZ0-uvUOgXn"
    },
    {
      "cell_type": "code",
      "execution_count": null,
      "id": "27179e35",
      "metadata": {
        "id": "27179e35"
      },
      "outputs": [],
      "source": [
        "word_index=pd.read_csv(\"/content/drive/MyDrive/Sentiment analysis/word_indexes.csv\")"
      ]
    },
    {
      "cell_type": "code",
      "execution_count": null,
      "id": "5836fcbe",
      "metadata": {
        "colab": {
          "base_uri": "https://localhost:8080/",
          "height": 206
        },
        "id": "5836fcbe",
        "outputId": "02f9426e-1487-4169-c15d-8a37cfb50b1a"
      },
      "outputs": [
        {
          "output_type": "execute_result",
          "data": {
            "text/html": [
              "\n",
              "  <div id=\"df-c8ee0d5c-f9a2-448b-ad76-3cb26f043ded\">\n",
              "    <div class=\"colab-df-container\">\n",
              "      <div>\n",
              "<style scoped>\n",
              "    .dataframe tbody tr th:only-of-type {\n",
              "        vertical-align: middle;\n",
              "    }\n",
              "\n",
              "    .dataframe tbody tr th {\n",
              "        vertical-align: top;\n",
              "    }\n",
              "\n",
              "    .dataframe thead th {\n",
              "        text-align: right;\n",
              "    }\n",
              "</style>\n",
              "<table border=\"1\" class=\"dataframe\">\n",
              "  <thead>\n",
              "    <tr style=\"text-align: right;\">\n",
              "      <th></th>\n",
              "      <th>Words</th>\n",
              "      <th>Indexes</th>\n",
              "    </tr>\n",
              "  </thead>\n",
              "  <tbody>\n",
              "    <tr>\n",
              "      <th>0</th>\n",
              "      <td>tsukino</td>\n",
              "      <td>52009</td>\n",
              "    </tr>\n",
              "    <tr>\n",
              "      <th>1</th>\n",
              "      <td>nunnery</td>\n",
              "      <td>52010</td>\n",
              "    </tr>\n",
              "    <tr>\n",
              "      <th>2</th>\n",
              "      <td>sonja</td>\n",
              "      <td>16819</td>\n",
              "    </tr>\n",
              "    <tr>\n",
              "      <th>3</th>\n",
              "      <td>vani</td>\n",
              "      <td>63954</td>\n",
              "    </tr>\n",
              "    <tr>\n",
              "      <th>4</th>\n",
              "      <td>woods</td>\n",
              "      <td>1411</td>\n",
              "    </tr>\n",
              "  </tbody>\n",
              "</table>\n",
              "</div>\n",
              "      <button class=\"colab-df-convert\" onclick=\"convertToInteractive('df-c8ee0d5c-f9a2-448b-ad76-3cb26f043ded')\"\n",
              "              title=\"Convert this dataframe to an interactive table.\"\n",
              "              style=\"display:none;\">\n",
              "        \n",
              "  <svg xmlns=\"http://www.w3.org/2000/svg\" height=\"24px\"viewBox=\"0 0 24 24\"\n",
              "       width=\"24px\">\n",
              "    <path d=\"M0 0h24v24H0V0z\" fill=\"none\"/>\n",
              "    <path d=\"M18.56 5.44l.94 2.06.94-2.06 2.06-.94-2.06-.94-.94-2.06-.94 2.06-2.06.94zm-11 1L8.5 8.5l.94-2.06 2.06-.94-2.06-.94L8.5 2.5l-.94 2.06-2.06.94zm10 10l.94 2.06.94-2.06 2.06-.94-2.06-.94-.94-2.06-.94 2.06-2.06.94z\"/><path d=\"M17.41 7.96l-1.37-1.37c-.4-.4-.92-.59-1.43-.59-.52 0-1.04.2-1.43.59L10.3 9.45l-7.72 7.72c-.78.78-.78 2.05 0 2.83L4 21.41c.39.39.9.59 1.41.59.51 0 1.02-.2 1.41-.59l7.78-7.78 2.81-2.81c.8-.78.8-2.07 0-2.86zM5.41 20L4 18.59l7.72-7.72 1.47 1.35L5.41 20z\"/>\n",
              "  </svg>\n",
              "      </button>\n",
              "      \n",
              "  <style>\n",
              "    .colab-df-container {\n",
              "      display:flex;\n",
              "      flex-wrap:wrap;\n",
              "      gap: 12px;\n",
              "    }\n",
              "\n",
              "    .colab-df-convert {\n",
              "      background-color: #E8F0FE;\n",
              "      border: none;\n",
              "      border-radius: 50%;\n",
              "      cursor: pointer;\n",
              "      display: none;\n",
              "      fill: #1967D2;\n",
              "      height: 32px;\n",
              "      padding: 0 0 0 0;\n",
              "      width: 32px;\n",
              "    }\n",
              "\n",
              "    .colab-df-convert:hover {\n",
              "      background-color: #E2EBFA;\n",
              "      box-shadow: 0px 1px 2px rgba(60, 64, 67, 0.3), 0px 1px 3px 1px rgba(60, 64, 67, 0.15);\n",
              "      fill: #174EA6;\n",
              "    }\n",
              "\n",
              "    [theme=dark] .colab-df-convert {\n",
              "      background-color: #3B4455;\n",
              "      fill: #D2E3FC;\n",
              "    }\n",
              "\n",
              "    [theme=dark] .colab-df-convert:hover {\n",
              "      background-color: #434B5C;\n",
              "      box-shadow: 0px 1px 3px 1px rgba(0, 0, 0, 0.15);\n",
              "      filter: drop-shadow(0px 1px 2px rgba(0, 0, 0, 0.3));\n",
              "      fill: #FFFFFF;\n",
              "    }\n",
              "  </style>\n",
              "\n",
              "      <script>\n",
              "        const buttonEl =\n",
              "          document.querySelector('#df-c8ee0d5c-f9a2-448b-ad76-3cb26f043ded button.colab-df-convert');\n",
              "        buttonEl.style.display =\n",
              "          google.colab.kernel.accessAllowed ? 'block' : 'none';\n",
              "\n",
              "        async function convertToInteractive(key) {\n",
              "          const element = document.querySelector('#df-c8ee0d5c-f9a2-448b-ad76-3cb26f043ded');\n",
              "          const dataTable =\n",
              "            await google.colab.kernel.invokeFunction('convertToInteractive',\n",
              "                                                     [key], {});\n",
              "          if (!dataTable) return;\n",
              "\n",
              "          const docLinkHtml = 'Like what you see? Visit the ' +\n",
              "            '<a target=\"_blank\" href=https://colab.research.google.com/notebooks/data_table.ipynb>data table notebook</a>'\n",
              "            + ' to learn more about interactive tables.';\n",
              "          element.innerHTML = '';\n",
              "          dataTable['output_type'] = 'display_data';\n",
              "          await google.colab.output.renderOutput(dataTable, element);\n",
              "          const docLink = document.createElement('div');\n",
              "          docLink.innerHTML = docLinkHtml;\n",
              "          element.appendChild(docLink);\n",
              "        }\n",
              "      </script>\n",
              "    </div>\n",
              "  </div>\n",
              "  "
            ],
            "text/plain": [
              "     Words  Indexes\n",
              "0  tsukino    52009\n",
              "1  nunnery    52010\n",
              "2    sonja    16819\n",
              "3     vani    63954\n",
              "4    woods     1411"
            ]
          },
          "metadata": {},
          "execution_count": 10
        }
      ],
      "source": [
        "word_index.head()"
      ]
    },
    {
      "cell_type": "markdown",
      "source": [
        "## Next we are going to convert the word_index dataframe into a python dictionary so that we can use it for converting our reviews from string to integer format."
      ],
      "metadata": {
        "id": "v6Q7Rp0vOscs"
      },
      "id": "v6Q7Rp0vOscs"
    },
    {
      "cell_type": "code",
      "execution_count": null,
      "id": "bd8c5431",
      "metadata": {
        "id": "bd8c5431"
      },
      "outputs": [],
      "source": [
        "word_index=dict(zip(word_index.Words,word_index.Indexes))"
      ]
    },
    {
      "cell_type": "code",
      "execution_count": null,
      "id": "723685f3",
      "metadata": {
        "id": "723685f3"
      },
      "outputs": [],
      "source": [
        "word_index[\"<PAD>\"]=0\n",
        "word_index[\"<START\"]=1\n",
        "word_index[\"<UNK>\"]=2\n",
        "word_index[\"<UNUSED>\"]=3"
      ]
    },
    {
      "cell_type": "markdown",
      "source": [
        "##Now we define a function review_encoder that encodes the reviews into integer format according to the mapping specified by word_index file."
      ],
      "metadata": {
        "id": "gX1A-LgkO1jQ"
      },
      "id": "gX1A-LgkO1jQ"
    },
    {
      "cell_type": "code",
      "execution_count": null,
      "id": "9db474fc",
      "metadata": {
        "id": "9db474fc"
      },
      "outputs": [],
      "source": [
        "def review_encoder(text):\n",
        "  arr=[word_index[word] for word in text]\n",
        "  return arr"
      ]
    },
    {
      "cell_type": "markdown",
      "source": [
        "##We split the reviews from their corresponding sentiments so that we can preprocess the reviews and sentiments separately and then later pass it to our model."
      ],
      "metadata": {
        "id": "lIpQkQjqO8Uv"
      },
      "id": "lIpQkQjqO8Uv"
    },
    {
      "cell_type": "code",
      "execution_count": null,
      "id": "2ee181f5",
      "metadata": {
        "id": "2ee181f5"
      },
      "outputs": [],
      "source": [
        "train_data,train_labels=imdb_reviews['Reviews'],imdb_reviews['Sentiment']\n",
        "test_data, test_labels=test_reviews['Reviews'],test_reviews['Sentiment']"
      ]
    },
    {
      "cell_type": "markdown",
      "source": [
        "##Before transforming the reviews as integers we need to tokenize or split the review on the basis of whitespaces For eg.the string \"The movie was wonderful\" becomes [\"The\" , \"movie\" , \"was\" , \"wonderful\" ]."
      ],
      "metadata": {
        "id": "AzDGr4WBPCI0"
      },
      "id": "AzDGr4WBPCI0"
    },
    {
      "cell_type": "code",
      "execution_count": null,
      "id": "81c4c564",
      "metadata": {
        "id": "81c4c564"
      },
      "outputs": [],
      "source": [
        "train_data=train_data.apply(lambda review:review.split())\n",
        "test_data=test_data.apply(lambda review:review.split())"
      ]
    },
    {
      "cell_type": "markdown",
      "source": [
        "##Since we have tokenized the reviews now we can apply the review_encoder function to each review and transform the reviews into integer format."
      ],
      "metadata": {
        "id": "PSWJ67r0PH0B"
      },
      "id": "PSWJ67r0PH0B"
    },
    {
      "cell_type": "code",
      "execution_count": null,
      "id": "5afd2358",
      "metadata": {
        "id": "5afd2358"
      },
      "outputs": [],
      "source": [
        "train_data=train_data.apply(review_encoder)\n",
        "test_data=test_data.apply(review_encoder)"
      ]
    },
    {
      "cell_type": "markdown",
      "source": [
        "##After transforming, our reviews are going to look like this."
      ],
      "metadata": {
        "id": "Jl-5Y_6iPK8J"
      },
      "id": "Jl-5Y_6iPK8J"
    },
    {
      "cell_type": "code",
      "execution_count": null,
      "id": "c71d01ca",
      "metadata": {
        "colab": {
          "base_uri": "https://localhost:8080/"
        },
        "id": "c71d01ca",
        "outputId": "9e20c526-2897-43af-9797-ef32732f16a1"
      },
      "outputs": [
        {
          "output_type": "execute_result",
          "data": {
            "text/plain": [
              "0    [1, 14, 22, 16, 43, 530, 973, 1622, 1385, 65, ...\n",
              "1    [1, 194, 1153, 194, 8255, 78, 228, 5, 6, 1463,...\n",
              "2    [1, 14, 47, 8, 30, 31, 7, 4, 249, 108, 7, 4, 5...\n",
              "3    [1, 4, 2, 2, 33, 2804, 4, 2040, 432, 111, 153,...\n",
              "4    [1, 249, 1323, 7, 61, 113, 10, 10, 13, 1637, 1...\n",
              "Name: Reviews, dtype: object"
            ]
          },
          "metadata": {},
          "execution_count": 17
        }
      ],
      "source": [
        "train_data.head()"
      ]
    },
    {
      "cell_type": "markdown",
      "source": [
        "##We also need to encode the sentiments and we are labeling the positive sentiment as 1 and negative sentiment as 0."
      ],
      "metadata": {
        "id": "lu76ycGSPRZG"
      },
      "id": "lu76ycGSPRZG"
    },
    {
      "cell_type": "code",
      "execution_count": null,
      "id": "34f1867d",
      "metadata": {
        "id": "34f1867d"
      },
      "outputs": [],
      "source": [
        "def encode_sentiments(x):\n",
        "  if x=='positive':\n",
        "    return 1\n",
        "  else:\n",
        "    return 0\n",
        "\n",
        "train_labels=train_labels.apply(encode_sentiments)\n",
        "test_labels=test_labels.apply(encode_sentiments)"
      ]
    },
    {
      "cell_type": "markdown",
      "source": [
        "Before giving the review as an input to the model we need to perform following preprocessing steps:\n",
        "\n",
        "The length of each review should be made equal for the model to be working correctly.\n",
        "\n",
        "We have chosen the length of each review to be 500.\n",
        "\n",
        "If the review is longer than 500 words we are going to cut the extra part of the review.\n",
        "\n",
        "If the review is contains less than 500 words we are going to pad the review with zeros to increase its length to 500."
      ],
      "metadata": {
        "id": "pe_A6ELaPV-o"
      },
      "id": "pe_A6ELaPV-o"
    },
    {
      "cell_type": "code",
      "execution_count": null,
      "id": "f4e9fa62",
      "metadata": {
        "id": "f4e9fa62"
      },
      "outputs": [],
      "source": [
        "train_data=keras.preprocessing.sequence.pad_sequences(train_data,value=word_index[\"<PAD>\"],padding='post',maxlen=500)\n",
        "test_data=keras.preprocessing.sequence.pad_sequences(test_data,value=word_index[\"<PAD>\"],padding='post',maxlen=500)"
      ]
    },
    {
      "cell_type": "markdown",
      "source": [
        "Building the model\n",
        "Our model is a neural network and it consits of the following layers :\n",
        "\n",
        "one word embedding layer which creates word embeddings of length 16 from integer encoded review.\n",
        "\n",
        "second layer is global average pooling layer which is used to prevent overfitting by reducing the number of parameters.\n",
        "\n",
        "then a dense layer which has 16 hidden units and uses relu as activation function\n",
        "\n",
        "the final layer is the output layer which uses sigmoid as activation function"
      ],
      "metadata": {
        "id": "Qyh95vUoPbqR"
      },
      "id": "Qyh95vUoPbqR"
    },
    {
      "cell_type": "code",
      "execution_count": null,
      "id": "594063ab",
      "metadata": {
        "id": "594063ab"
      },
      "outputs": [],
      "source": [
        "model=keras.Sequential([keras.layers.Embedding(10000,16,input_length=500),\n",
        "                        keras.layers.GlobalAveragePooling1D(),\n",
        "                        keras.layers.Dense(16,activation='relu'),\n",
        "                        keras.layers.Dense(1,activation='sigmoid')])"
      ]
    },
    {
      "cell_type": "markdown",
      "source": [
        "compiling the model\n",
        "Adam is used as optimization function for our model.\n",
        "\n",
        "Binary cross entropy loss function is used as loss function for the model.\n",
        "\n",
        "Accuracy is used as the metric for evaluating the model."
      ],
      "metadata": {
        "id": "iZrzvPByPgXi"
      },
      "id": "iZrzvPByPgXi"
    },
    {
      "cell_type": "code",
      "execution_count": null,
      "id": "2d17a649",
      "metadata": {
        "id": "2d17a649"
      },
      "outputs": [],
      "source": [
        "model.compile(optimizer='adam',loss='binary_crossentropy',metrics=['accuracy'])"
      ]
    },
    {
      "cell_type": "markdown",
      "source": [
        "In the next step we are going to train the model on our downloaded IMDB dataset."
      ],
      "metadata": {
        "id": "HobcZlWSPlyZ"
      },
      "id": "HobcZlWSPlyZ"
    },
    {
      "cell_type": "code",
      "execution_count": null,
      "id": "789b3c82",
      "metadata": {
        "colab": {
          "base_uri": "https://localhost:8080/"
        },
        "id": "789b3c82",
        "outputId": "7920fa75-df35-4385-e705-d0b76bfe99f1"
      },
      "outputs": [
        {
          "output_type": "stream",
          "name": "stdout",
          "text": [
            "Epoch 1/30\n",
            "49/49 [==============================] - 3s 30ms/step - loss: 0.6918 - accuracy: 0.5824 - val_loss: 0.6895 - val_accuracy: 0.5632\n",
            "Epoch 2/30\n",
            "49/49 [==============================] - 1s 27ms/step - loss: 0.6841 - accuracy: 0.6317 - val_loss: 0.6776 - val_accuracy: 0.6970\n",
            "Epoch 3/30\n",
            "49/49 [==============================] - 1s 26ms/step - loss: 0.6630 - accuracy: 0.7433 - val_loss: 0.6497 - val_accuracy: 0.7399\n",
            "Epoch 4/30\n",
            "49/49 [==============================] - 1s 27ms/step - loss: 0.6233 - accuracy: 0.7811 - val_loss: 0.6044 - val_accuracy: 0.7858\n",
            "Epoch 5/30\n",
            "49/49 [==============================] - 1s 26ms/step - loss: 0.5669 - accuracy: 0.8082 - val_loss: 0.5486 - val_accuracy: 0.8060\n",
            "Epoch 6/30\n",
            "49/49 [==============================] - 1s 27ms/step - loss: 0.5043 - accuracy: 0.8344 - val_loss: 0.4933 - val_accuracy: 0.8270\n",
            "Epoch 7/30\n",
            "49/49 [==============================] - 1s 27ms/step - loss: 0.4462 - accuracy: 0.8559 - val_loss: 0.4453 - val_accuracy: 0.8432\n",
            "Epoch 8/30\n",
            "49/49 [==============================] - 1s 27ms/step - loss: 0.3977 - accuracy: 0.8703 - val_loss: 0.4080 - val_accuracy: 0.8532\n",
            "Epoch 9/30\n",
            "49/49 [==============================] - 1s 26ms/step - loss: 0.3596 - accuracy: 0.8792 - val_loss: 0.3802 - val_accuracy: 0.8596\n",
            "Epoch 10/30\n",
            "49/49 [==============================] - 1s 27ms/step - loss: 0.3301 - accuracy: 0.8882 - val_loss: 0.3606 - val_accuracy: 0.8635\n",
            "Epoch 11/30\n",
            "49/49 [==============================] - 1s 28ms/step - loss: 0.3069 - accuracy: 0.8952 - val_loss: 0.3417 - val_accuracy: 0.8704\n",
            "Epoch 12/30\n",
            "49/49 [==============================] - 1s 27ms/step - loss: 0.2874 - accuracy: 0.9000 - val_loss: 0.3302 - val_accuracy: 0.8722\n",
            "Epoch 13/30\n",
            "49/49 [==============================] - 1s 26ms/step - loss: 0.2711 - accuracy: 0.9058 - val_loss: 0.3193 - val_accuracy: 0.8759\n",
            "Epoch 14/30\n",
            "49/49 [==============================] - 1s 27ms/step - loss: 0.2568 - accuracy: 0.9109 - val_loss: 0.3116 - val_accuracy: 0.8782\n",
            "Epoch 15/30\n",
            "49/49 [==============================] - 1s 27ms/step - loss: 0.2456 - accuracy: 0.9142 - val_loss: 0.3057 - val_accuracy: 0.8799\n",
            "Epoch 16/30\n",
            "49/49 [==============================] - 1s 26ms/step - loss: 0.2347 - accuracy: 0.9178 - val_loss: 0.3019 - val_accuracy: 0.8798\n",
            "Epoch 17/30\n",
            "49/49 [==============================] - 1s 27ms/step - loss: 0.2242 - accuracy: 0.9223 - val_loss: 0.2963 - val_accuracy: 0.8824\n",
            "Epoch 18/30\n",
            "49/49 [==============================] - 1s 27ms/step - loss: 0.2150 - accuracy: 0.9261 - val_loss: 0.2941 - val_accuracy: 0.8828\n",
            "Epoch 19/30\n",
            "49/49 [==============================] - 2s 34ms/step - loss: 0.2071 - accuracy: 0.9284 - val_loss: 0.2905 - val_accuracy: 0.8852\n",
            "Epoch 20/30\n",
            "49/49 [==============================] - 2s 34ms/step - loss: 0.1996 - accuracy: 0.9310 - val_loss: 0.2890 - val_accuracy: 0.8853\n",
            "Epoch 21/30\n",
            "49/49 [==============================] - 1s 26ms/step - loss: 0.1923 - accuracy: 0.9346 - val_loss: 0.2884 - val_accuracy: 0.8848\n",
            "Epoch 22/30\n",
            "49/49 [==============================] - 1s 26ms/step - loss: 0.1861 - accuracy: 0.9364 - val_loss: 0.2862 - val_accuracy: 0.8862\n",
            "Epoch 23/30\n",
            "49/49 [==============================] - 1s 27ms/step - loss: 0.1801 - accuracy: 0.9391 - val_loss: 0.2857 - val_accuracy: 0.8862\n",
            "Epoch 24/30\n",
            "49/49 [==============================] - 1s 29ms/step - loss: 0.1739 - accuracy: 0.9410 - val_loss: 0.2860 - val_accuracy: 0.8866\n",
            "Epoch 25/30\n",
            "49/49 [==============================] - 2s 34ms/step - loss: 0.1687 - accuracy: 0.9440 - val_loss: 0.2868 - val_accuracy: 0.8859\n",
            "Epoch 26/30\n",
            "49/49 [==============================] - 1s 26ms/step - loss: 0.1636 - accuracy: 0.9458 - val_loss: 0.2875 - val_accuracy: 0.8852\n",
            "Epoch 27/30\n",
            "49/49 [==============================] - 1s 26ms/step - loss: 0.1591 - accuracy: 0.9467 - val_loss: 0.2872 - val_accuracy: 0.8861\n",
            "Epoch 28/30\n",
            "49/49 [==============================] - 1s 27ms/step - loss: 0.1547 - accuracy: 0.9491 - val_loss: 0.2898 - val_accuracy: 0.8857\n",
            "Epoch 29/30\n",
            "49/49 [==============================] - 1s 27ms/step - loss: 0.1498 - accuracy: 0.9505 - val_loss: 0.2904 - val_accuracy: 0.8859\n",
            "Epoch 30/30\n",
            "49/49 [==============================] - 1s 27ms/step - loss: 0.1462 - accuracy: 0.9517 - val_loss: 0.2928 - val_accuracy: 0.8854\n"
          ]
        }
      ],
      "source": [
        "#training the model\n",
        "history=model.fit(train_data,train_labels,epochs=30,batch_size=512,validation_data=(test_data,test_labels))"
      ]
    },
    {
      "cell_type": "markdown",
      "source": [
        "Now we will be evaluating the loss and accuracy of our model on testing data."
      ],
      "metadata": {
        "id": "7wCGBL9yQBTD"
      },
      "id": "7wCGBL9yQBTD"
    },
    {
      "cell_type": "code",
      "execution_count": null,
      "id": "07797f66",
      "metadata": {
        "colab": {
          "base_uri": "https://localhost:8080/"
        },
        "id": "07797f66",
        "outputId": "fad6f089-7d73-49a0-c58f-fce15d90acc4"
      },
      "outputs": [
        {
          "output_type": "stream",
          "name": "stdout",
          "text": [
            "782/782 [==============================] - 1s 2ms/step - loss: 0.2928 - accuracy: 0.8854\n"
          ]
        }
      ],
      "source": [
        "loss,accuracy=model.evaluate(test_data,test_labels)"
      ]
    },
    {
      "cell_type": "markdown",
      "source": [
        "As we can see our model is giving an accuracy of 88.54% on the testing data.\n",
        "\n",
        "Now we are going to take a random review from our test dataset and check wether our model produces correct output or not"
      ],
      "metadata": {
        "id": "v1B3HIRUP6e0"
      },
      "id": "v1B3HIRUP6e0"
    },
    {
      "cell_type": "code",
      "execution_count": null,
      "id": "f7a241d2",
      "metadata": {
        "colab": {
          "base_uri": "https://localhost:8080/"
        },
        "id": "f7a241d2",
        "outputId": "b9b95137-2943-4e17-a6df-39a779073f92"
      },
      "outputs": [
        {
          "output_type": "stream",
          "name": "stdout",
          "text": [
            "Reviews      <START it's a real big <UNK> that people easil...\n",
            "Sentiment                                             negative\n",
            "Name: 890, dtype: object\n"
          ]
        }
      ],
      "source": [
        "index=np.random.randint(1,1000)\n",
        "user_review=test_reviews.loc[index]\n",
        "print(user_review)"
      ]
    },
    {
      "cell_type": "markdown",
      "source": [
        "As we can see the sentiment for the above review is positive, now we are going to take the integer format of this particular review which we already have in our preprocessed test data and then give it as an input to our model to check the prediction of our model."
      ],
      "metadata": {
        "id": "gLBRw84kPzxD"
      },
      "id": "gLBRw84kPzxD"
    },
    {
      "cell_type": "code",
      "execution_count": null,
      "id": "54527342",
      "metadata": {
        "colab": {
          "base_uri": "https://localhost:8080/"
        },
        "id": "54527342",
        "outputId": "297627df-96a7-4738-e72a-d1b6b22ec9be"
      },
      "outputs": [
        {
          "output_type": "stream",
          "name": "stdout",
          "text": [
            "negative sentiment\n"
          ]
        }
      ],
      "source": [
        "user_review=test_data[index]\n",
        "user_review=np.array([user_review])\n",
        "if (model.predict(user_review)>0.5).astype(\"int32\"):\n",
        "  print(\"positive sentiment\")\n",
        "else:\n",
        "  print(\"negative sentiment\")\n"
      ]
    },
    {
      "cell_type": "markdown",
      "source": [
        "As we can see our model is now able to predict the sentiment of the review."
      ],
      "metadata": {
        "id": "AkTXkksCPuAv"
      },
      "id": "AkTXkksCPuAv"
    }
  ],
  "metadata": {
    "kernelspec": {
      "display_name": "Python 3 (ipykernel)",
      "language": "python",
      "name": "python3"
    },
    "language_info": {
      "codemirror_mode": {
        "name": "ipython",
        "version": 3
      },
      "file_extension": ".py",
      "mimetype": "text/x-python",
      "name": "python",
      "nbconvert_exporter": "python",
      "pygments_lexer": "ipython3",
      "version": "3.9.7"
    },
    "colab": {
      "name": "Sentiment Analysis Using Tensorflow.ipynb",
      "provenance": []
    }
  },
  "nbformat": 4,
  "nbformat_minor": 5
}